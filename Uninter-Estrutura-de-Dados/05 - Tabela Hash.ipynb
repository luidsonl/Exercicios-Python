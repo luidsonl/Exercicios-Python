{
 "cells": [
  {
   "cell_type": "markdown",
   "id": "61ec850d",
   "metadata": {},
   "source": [
    "# Anotações da aula 5"
   ]
  },
  {
   "cell_type": "markdown",
   "id": "d71f38d7",
   "metadata": {},
   "source": [
    "## Criando uma função hash"
   ]
  },
  {
   "cell_type": "code",
   "execution_count": 1,
   "id": "5fb8d2ed",
   "metadata": {},
   "outputs": [],
   "source": [
    "def hash_func (k, n):\n",
    "    sum = 0\n",
    "    k = list(k)\n",
    "    for item in k:\n",
    "        sum+= ord(item)\n",
    "        \n",
    "    return sum % n"
   ]
  },
  {
   "cell_type": "markdown",
   "id": "13f5857a",
   "metadata": {},
   "source": [
    "## Enderecamento aberto - Inserção"
   ]
  },
  {
   "cell_type": "code",
   "execution_count": 2,
   "id": "612d099c",
   "metadata": {},
   "outputs": [],
   "source": [
    "#Essa função não trata as colisões\n",
    "def enderecamento_aberto(lista: list, valor):\n",
    "    if lista[hash_func(valor, len(lista))]:\n",
    "        print('Valor já ocupado', hash_func(valor, len(lista)))\n",
    "    else:\n",
    "        lista[hash_func(valor, len(lista))] = valor"
   ]
  },
  {
   "cell_type": "code",
   "execution_count": 3,
   "id": "9a2a92bd",
   "metadata": {
    "scrolled": true
   },
   "outputs": [
    {
     "name": "stdout",
     "output_type": "stream",
     "text": [
      "[None, None, None, 'batata', None, None]\n",
      "['beterraba', None, None, 'batata', None, None]\n",
      "['beterraba', None, None, 'batata', None, 'cenoura']\n",
      "Valor já ocupado 3\n",
      "['beterraba', None, None, 'batata', None, 'cenoura']\n"
     ]
    }
   ],
   "source": [
    "lista1 = [None] * 6 #cria uma lista com comprimento 6\n",
    "enderecamento_aberto(lista1, 'batata')\n",
    "print (lista1)\n",
    "enderecamento_aberto(lista1, 'beterraba')\n",
    "print (lista1)\n",
    "enderecamento_aberto(lista1, 'cenoura')\n",
    "print (lista1)\n",
    "enderecamento_aberto(lista1, 'trigo')\n",
    "print (lista1)"
   ]
  },
  {
   "cell_type": "markdown",
   "id": "b2b525f8",
   "metadata": {},
   "source": [
    "### Com tentativa linear"
   ]
  },
  {
   "cell_type": "code",
   "execution_count": 4,
   "id": "f81c7329",
   "metadata": {},
   "outputs": [],
   "source": [
    "def tentativa_linear(lista:list, indice , valor):\n",
    "    #Primeiro verifica se a lista já não está cheia para prevenir um loop infinito\n",
    "    preenchido = len([elemento for elemento in lista if elemento is not None])\n",
    "    \n",
    "    if preenchido == len(lista):\n",
    "        print('Lista já está cheia')\n",
    "        return\n",
    "    \n",
    "    while True:\n",
    "            if(not lista[indice]):\n",
    "                return indice\n",
    "            \n",
    "            indice += 1\n",
    "            \n",
    "            if indice >= len(lista):\n",
    "                indice = 0"
   ]
  },
  {
   "cell_type": "code",
   "execution_count": 5,
   "id": "a6c144f3",
   "metadata": {},
   "outputs": [],
   "source": [
    "def e_aberto_t_linear(lista: list, valor):\n",
    "    indice = hash_func(valor, len(lista))\n",
    "    \n",
    "    if lista[indice]:\n",
    "        indice = tentativa_linear(lista, indice, valor)\n",
    "    \n",
    "    if indice == None:\n",
    "        return\n",
    "    \n",
    "    lista[indice] = valor\n",
    "    return"
   ]
  },
  {
   "cell_type": "code",
   "execution_count": 6,
   "id": "829768d1",
   "metadata": {
    "scrolled": false
   },
   "outputs": [
    {
     "name": "stdout",
     "output_type": "stream",
     "text": [
      "[None, None, None, None, 'cachorro']\n",
      "[None, None, 'gato', None, 'cachorro']\n",
      "['galinha', None, 'gato', None, 'cachorro']\n",
      "['galinha', 'papagaio', 'gato', None, 'cachorro']\n",
      "['galinha', 'papagaio', 'gato', 'ovelha', 'cachorro']\n",
      "Lista já está cheia\n",
      "['galinha', 'papagaio', 'gato', 'ovelha', 'cachorro']\n",
      "Lista já está cheia\n",
      "['galinha', 'papagaio', 'gato', 'ovelha', 'cachorro']\n"
     ]
    }
   ],
   "source": [
    "lista2 = [None] * 5 #cria uma lista com comprimento 5\n",
    "e_aberto_t_linear(lista2, 'cachorro')\n",
    "print (lista2)\n",
    "e_aberto_t_linear(lista2, 'gato')\n",
    "print (lista2)\n",
    "e_aberto_t_linear(lista2, 'galinha')\n",
    "print (lista2)\n",
    "e_aberto_t_linear(lista2, 'papagaio')\n",
    "print (lista2)\n",
    "e_aberto_t_linear(lista2, 'ovelha')\n",
    "print (lista2)\n",
    "e_aberto_t_linear(lista2, 'vaca')\n",
    "print (lista2)\n",
    "e_aberto_t_linear(lista2, 'porco')\n",
    "print (lista2)"
   ]
  },
  {
   "cell_type": "markdown",
   "id": "301957f6",
   "metadata": {},
   "source": [
    "## Endereçamento aberto - Remoção "
   ]
  },
  {
   "cell_type": "code",
   "execution_count": 7,
   "id": "13cb8f22",
   "metadata": {},
   "outputs": [],
   "source": [
    "def remocao_linear(lista: list, valor):\n",
    "    indice = hash_func(valor, len(lista))\n",
    "    \n",
    "    if lista[indice] == valor:\n",
    "        lista[indice] = None\n",
    "        return\n",
    "    else:\n",
    "        tentativas = len(lista)\n",
    "        \n",
    "        while(tentativas):\n",
    "            if lista[indice] == valor:\n",
    "                lista[indice] = None\n",
    "                return\n",
    "            tentativas -= 1\n",
    "            \n",
    "            indice+=1\n",
    "            if indice >= len(lista)-1:\n",
    "                indice = 0\n",
    "            \n",
    "    print('Informação não está na lista')\n",
    "    return"
   ]
  },
  {
   "cell_type": "code",
   "execution_count": 8,
   "id": "f07c4071",
   "metadata": {},
   "outputs": [
    {
     "name": "stdout",
     "output_type": "stream",
     "text": [
      "['galinha', 'papagaio', 'gato', 'ovelha', 'cachorro']\n",
      "['galinha', None, 'gato', 'ovelha', 'cachorro']\n"
     ]
    }
   ],
   "source": [
    "print(lista2)\n",
    "remocao_linear(lista2, 'papagaio')\n",
    "print(lista2)"
   ]
  }
 ],
 "metadata": {
  "kernelspec": {
   "display_name": "Python 3 (ipykernel)",
   "language": "python",
   "name": "python3"
  },
  "language_info": {
   "codemirror_mode": {
    "name": "ipython",
    "version": 3
   },
   "file_extension": ".py",
   "mimetype": "text/x-python",
   "name": "python",
   "nbconvert_exporter": "python",
   "pygments_lexer": "ipython3",
   "version": "3.10.6"
  }
 },
 "nbformat": 4,
 "nbformat_minor": 5
}
