{
 "cells": [
  {
   "cell_type": "markdown",
   "id": "5948f25c",
   "metadata": {},
   "source": [
    "# Anotações da aula 4"
   ]
  },
  {
   "cell_type": "markdown",
   "id": "c0e0a148",
   "metadata": {},
   "source": [
    "## Árvore binária de busca(BST)"
   ]
  },
  {
   "cell_type": "code",
   "execution_count": 57,
   "id": "a184fe35",
   "metadata": {},
   "outputs": [],
   "source": [
    "class BST:\n",
    "    def __init__(self, data=None):#construtor\n",
    "        self.data = data\n",
    "        self.left = None\n",
    "        self.right = None\n",
    "    \n",
    "    def insert(self, data): #método de adicionar novo nó\n",
    "        if (self.data == None): #atribui o valor para a primeira busca recursiva\n",
    "            self.data = data \n",
    "        else:\n",
    "            if (data < self.data): #se o valor for menor que o nó atual da busca, ele irá buscar a esquerda\n",
    "                if (self.left): #se existir valor a esquerda ele chama o mesmo método para o nó da esquerda\n",
    "                    self.left.insert(data)\n",
    "                else:\n",
    "                    self.left = BST(data) # se for a folha, ele atribui cria um nó com o valor informado\n",
    "            else: #se o valor for maior que o nó atual da busca, ele irá buscar a direita\n",
    "                if(self.right): # se existir nó na direita\n",
    "                    self.right.insert(data)#chamada recursiva\n",
    "                else:\n",
    "                    self.right = BST(data) #cria novo nó\n",
    "                    \n",
    "    def level_order(self):# irá retornar os nós pelo nível da árvore. começando da esquerda\n",
    "        \n",
    "        current_node = self #inicia pelo nó raiz\n",
    "        lst = [] #irá armazenar a lista de nós\n",
    "        queue = [] #irá armazenar a fila de nós filhos\n",
    "        queue.insert(0,current_node) #insere o nó raiz no topo da fila\n",
    "        \n",
    "        while(len(queue) > 0): #enquanto existir nó na fila\n",
    "            current_node = queue.pop() # determina que o nó atual da busca é o último nó da fila\n",
    "            lst.append(current_node.data) #adiciona o nó na lista\n",
    "            \n",
    "            if(current_node.left): #verifica inicialmente a esquerda se existem nós\n",
    "                queue.insert(0,current_node.left) # insere nó da esquerda\n",
    "                \n",
    "            if(current_node.right): # verifica se existem nós a direita\n",
    "                queue.insert(0,current_node.right)\n",
    "                \n",
    "        return lst\n",
    "    \n",
    "    def in_order(self, lst = []):\n",
    "        if self.left:\n",
    "            self.left.in_order(lst) #primeiro visita os nós esquerdos recursivamente\n",
    "        lst.append(self.data) #adiciona o valor a lista\n",
    "        if self.right:\n",
    "            self.right.in_order(lst) #depois visita os nós a direita\n",
    "        return lst\n",
    "    \n",
    "    def pre_order(self, lst = []):\n",
    "        \n",
    "        lst.append(self.data)# adiciona o nó antes\n",
    "        if (self.left):\n",
    "            self.left.in_order(lst)\n",
    "        if (self.right):\n",
    "            self.right.in_order(lst)\n",
    "        return lst\n",
    "    \n",
    "    def post_order(self, lst=[]):\n",
    "        if self.left:\n",
    "            self.left.post_order(lst)\n",
    "        if self.right:\n",
    "            self.right.post_order(lst)\n",
    "        lst.append(self.data) #adiciona o nó depois\n",
    "        return lst\n"
   ]
  },
  {
   "cell_type": "markdown",
   "id": "48014bc9",
   "metadata": {},
   "source": [
    "|  |  |  |  |  |  |  |10|  |  |  |  |  |  |\n",
    "|  |  |  |  |  |  |/ |  |\\ |  |  |  |  |  |\n",
    "|  |  |  |  |  |04|  |  |  |12|  |  |  |  |\n",
    "|  |  |  |  | /|  |  |  | /|  |\\ |  |  |  |\n",
    "|  |  |  |  |03|  |  |  |11|  |13|  |  |  |\n",
    "|  |  |  | /|  |  |  |  |  |  |  |  |  |  |\n",
    "|  |  |  |01|  |  |  |  |  |  |  |  |  |  |\n",
    "|  |  |  |  |  |  |  |  |  |  |  |  |  |  |\n",
    "|  |  |  |  |  |  |  |  |  |  |  |  |  |  |"
   ]
  },
  {
   "cell_type": "code",
   "execution_count": 51,
   "id": "debbaed5",
   "metadata": {},
   "outputs": [],
   "source": [
    "teste = BST()\n",
    "teste.insert(10)\n",
    "teste.insert(4)\n",
    "teste.insert(3)\n",
    "teste.insert(12)\n",
    "teste.insert(1)\n",
    "teste.insert(13)\n",
    "teste.insert(11)"
   ]
  },
  {
   "cell_type": "code",
   "execution_count": 52,
   "id": "74f82e93",
   "metadata": {},
   "outputs": [
    {
     "data": {
      "text/plain": [
       "[10, 4, 12, 3, 11, 13, 1]"
      ]
     },
     "execution_count": 52,
     "metadata": {},
     "output_type": "execute_result"
    }
   ],
   "source": [
    "teste.level_order()"
   ]
  },
  {
   "cell_type": "code",
   "execution_count": 53,
   "id": "edb82e67",
   "metadata": {},
   "outputs": [
    {
     "data": {
      "text/plain": [
       "[1, 3, 4, 10, 11, 12, 13]"
      ]
     },
     "execution_count": 53,
     "metadata": {},
     "output_type": "execute_result"
    }
   ],
   "source": [
    "teste.in_order()"
   ]
  },
  {
   "cell_type": "code",
   "execution_count": 54,
   "id": "6719a552",
   "metadata": {
    "scrolled": true
   },
   "outputs": [
    {
     "data": {
      "text/plain": [
       "[10, 1, 3, 4, 11, 12, 13]"
      ]
     },
     "execution_count": 54,
     "metadata": {},
     "output_type": "execute_result"
    }
   ],
   "source": [
    "teste.pre_order()"
   ]
  },
  {
   "cell_type": "code",
   "execution_count": 56,
   "id": "7c81f01e",
   "metadata": {},
   "outputs": [
    {
     "data": {
      "text/plain": [
       "[1, 3, 4, 11, 13, 12, 10]"
      ]
     },
     "execution_count": 56,
     "metadata": {},
     "output_type": "execute_result"
    }
   ],
   "source": [
    "teste.post_order()"
   ]
  },
  {
   "cell_type": "markdown",
   "id": "fcf143ed",
   "metadata": {},
   "source": [
    "## ÁRVORE DE ADELSON-VELSKII E LANDIS (AVL)"
   ]
  },
  {
   "cell_type": "code",
   "execution_count": 65,
   "id": "6ea10527",
   "metadata": {},
   "outputs": [],
   "source": [
    "class Node:\n",
    "    def __init__(self, data):\n",
    "        self.data = data\n",
    "        self.left = None\n",
    "        self.right = None\n",
    "        self.height = 1\n",
    "\n",
    "class AVLTree:\n",
    "    def __init__(self):\n",
    "        self.root = None\n",
    "\n",
    "    def insert(self, data):\n",
    "        if not self.root:\n",
    "            self.root = Node(data)  # Insere no nó raiz se a árvore estiver vazia\n",
    "        else:\n",
    "            self.root = self._insert(self.root, data)  # Se não, chama o método interno _insert\n",
    "\n",
    "    def _insert(self, node, data):\n",
    "        if not node:\n",
    "            return Node(data)  # Cria um novo nó se chegarmos a uma posição de inserção vazia\n",
    "        elif data < node.data:\n",
    "            node.left = self._insert(node.left, data)  # Recursivamente, insere à esquerda se o dado for menor\n",
    "        else:\n",
    "            node.right = self._insert(node.right, data)  # Recursivamente, insere à direita se o dado for maior\n",
    "\n",
    "        node.height = 1 + max(self._get_height(node.left), self._get_height(node.right))  # Atualiza a altura do nó\n",
    "        balance_factor = self._get_balance_factor(node)  # Calcula o fator de balanceamento do nó\n",
    "\n",
    "        if balance_factor > 1:  # O nó está desbalanceado para a esquerda\n",
    "            if data < node.left.data:\n",
    "                return self._rotate_right(node)  # Rotação simples à direita se a inserção for à esquerda\n",
    "            else:\n",
    "                node.left = self._rotate_left(node.left)  # Rotação dupla à esquerda se a inserção for à direita\n",
    "                return self._rotate_right(node)\n",
    "        if balance_factor < -1:  # O nó está desbalanceado para a direita\n",
    "            if data > node.right.data:\n",
    "                return self._rotate_left(node)  # Rotação simples à esquerda se a inserção for à direita\n",
    "            else:\n",
    "                node.right = self._rotate_right(node.right)  # Rotação dupla à direita se a inserção for à esquerda\n",
    "                return self._rotate_left(node)\n",
    "\n",
    "        return node  # Retorna o nó atualizado\n",
    "\n",
    "    def _get_height(self, node):\n",
    "        if not node:\n",
    "            return 0\n",
    "        return node.height  # Retorna a altura do nó ou 0 se o nó for nulo\n",
    "\n",
    "    def _get_balance_factor(self, node):\n",
    "        if not node:\n",
    "            return 0\n",
    "        return self._get_height(node.left) - self._get_height(node.right)  # Retorna o fator de balanceamento do nó\n",
    "\n",
    "    def _rotate_left(self, z):\n",
    "        y = z.right\n",
    "        T2 = y.left\n",
    "\n",
    "        y.left = z\n",
    "        z.right = T2\n",
    "\n",
    "        z.height = 1 + max(self._get_height(z.left), self._get_height(z.right))  # Atualiza as alturas após a rotação\n",
    "        y.height = 1 + max(self._get_height(y.left), self._get_height(y.right))\n",
    "\n",
    "        return y  # Retorna o novo nó raiz da subárvore\n",
    "\n",
    "    def _rotate_right(self, z):\n",
    "        y = z.left\n",
    "        T3 = y.right\n",
    "\n",
    "        y.right = z\n",
    "        z.left = T3\n",
    "\n",
    "        z.height = 1 + max(self._get_height(z.left), self._get_height(z.right))  # Atualiza as alturas após a rotação\n",
    "        y.height = 1 + max(self._get_height(y.left), self._get_height(y.right))\n",
    "\n",
    "        return y  # Retorna o novo nó raiz da subárvore\n",
    "    \n",
    "    def display(self):\n",
    "        self._display_in_order(self.root)\n",
    "\n",
    "    def _display_in_order(self, node):\n",
    "        if node:\n",
    "            self._display_in_order(node.left)  # Percorre recursivamente a subárvore esquerda\n",
    "            print(node.data, end=\" \")  # Imprime o dado do nó atual\n",
    "            self._display_in_order(node.right)  # Percorre recursivamente a subárvore direita\n",
    "\n",
    "\n",
    "#Escrito pelo chat gpt"
   ]
  },
  {
   "cell_type": "code",
   "execution_count": 66,
   "id": "1b1485e6",
   "metadata": {},
   "outputs": [],
   "source": [
    "avl = AVLTree()\n",
    "avl.insert(10)\n",
    "avl.insert(4)\n",
    "avl.insert(3)\n",
    "avl.insert(12)\n",
    "avl.insert(1)\n",
    "avl.insert(13)\n",
    "avl.insert(11)"
   ]
  },
  {
   "cell_type": "code",
   "execution_count": 67,
   "id": "29c9bc81",
   "metadata": {},
   "outputs": [
    {
     "name": "stdout",
     "output_type": "stream",
     "text": [
      "1 3 4 10 11 12 13 "
     ]
    }
   ],
   "source": [
    "avl.display()"
   ]
  }
 ],
 "metadata": {
  "kernelspec": {
   "display_name": "Python 3 (ipykernel)",
   "language": "python",
   "name": "python3"
  },
  "language_info": {
   "codemirror_mode": {
    "name": "ipython",
    "version": 3
   },
   "file_extension": ".py",
   "mimetype": "text/x-python",
   "name": "python",
   "nbconvert_exporter": "python",
   "pygments_lexer": "ipython3",
   "version": "3.10.6"
  }
 },
 "nbformat": 4,
 "nbformat_minor": 5
}
