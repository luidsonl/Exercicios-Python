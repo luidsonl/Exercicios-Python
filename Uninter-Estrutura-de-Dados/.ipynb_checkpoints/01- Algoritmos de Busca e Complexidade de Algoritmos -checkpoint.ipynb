{
 "cells": [
  {
   "cell_type": "markdown",
   "id": "dc729cca",
   "metadata": {},
   "source": [
    "## Anotações baseadas na aula 1"
   ]
  },
  {
   "cell_type": "markdown",
   "id": "c4c3b5e2",
   "metadata": {},
   "source": [
    "# O(n)"
   ]
  },
  {
   "cell_type": "code",
   "execution_count": 76,
   "id": "4960784d",
   "metadata": {},
   "outputs": [],
   "source": [
    "def exemplo0(dados):\n",
    "    lista = []\n",
    "    contador = 0\n",
    "    \n",
    "    for i in dados:\n",
    "        contador += 1\n",
    "        lista.append(i)\n",
    "        print('executado', contador , 'vezes')\n",
    "    \n",
    "    return lista"
   ]
  },
  {
   "cell_type": "code",
   "execution_count": 77,
   "id": "34bd108e",
   "metadata": {},
   "outputs": [
    {
     "name": "stdout",
     "output_type": "stream",
     "text": [
      "executado 1 vezes\n",
      "executado 2 vezes\n",
      "executado 3 vezes\n",
      "executado 4 vezes\n",
      "[1, 45, 3, 7]\n"
     ]
    }
   ],
   "source": [
    "print(exemplo0([1,45,3,7]))"
   ]
  },
  {
   "cell_type": "markdown",
   "id": "aadd13de",
   "metadata": {},
   "source": [
    "# O(n)"
   ]
  },
  {
   "cell_type": "code",
   "execution_count": 50,
   "id": "fcc0cf08",
   "metadata": {},
   "outputs": [],
   "source": [
    "def exemplo1(dados):\n",
    "    lista = []\n",
    "    contador = 0\n",
    "    for i in range(len(dados)//2):\n",
    "        contador += 1\n",
    "        lista.append(dados[i] * dados[-(i+1)])\n",
    "        print('executado', contador , 'vezes')\n",
    "        \n",
    "    return lista"
   ]
  },
  {
   "cell_type": "code",
   "execution_count": 24,
   "id": "19604ead",
   "metadata": {},
   "outputs": [
    {
     "name": "stdout",
     "output_type": "stream",
     "text": [
      "executado 1 vezes\n",
      "executado 2 vezes\n",
      "executado 3 vezes\n",
      "Saída: [15, 16, 12]\n"
     ]
    }
   ],
   "source": [
    "print('Saída:', exemplo1([3,4,6,2,4,5]))"
   ]
  },
  {
   "cell_type": "markdown",
   "id": "e6dcea7d",
   "metadata": {},
   "source": [
    "**O loop é executado n/2 vezes**\n",
    "\n",
    "**Se n tende ao infinito**\n",
    "\n",
    "**t(n) = n/2 = O(n)**"
   ]
  },
  {
   "cell_type": "markdown",
   "id": "f84fce49",
   "metadata": {},
   "source": [
    "# O(n)"
   ]
  },
  {
   "cell_type": "code",
   "execution_count": 32,
   "id": "7ae8f92c",
   "metadata": {},
   "outputs": [],
   "source": [
    "def exemplo2(dados):\n",
    "    saida = []\n",
    "    contador = 0\n",
    "    for i in range(len(dados)):\n",
    "        contador += 1\n",
    "        saida.append(dados[i])\n",
    "        print('executado', contador, 'vezes')\n",
    "        \n",
    "    for i in range(len(dados)):\n",
    "        contador += 1\n",
    "        saida.append(dados[i])\n",
    "        print('executado', contador, 'vezes')\n",
    "        \n",
    "    return saida"
   ]
  },
  {
   "cell_type": "code",
   "execution_count": 35,
   "id": "faed65b1",
   "metadata": {
    "scrolled": true
   },
   "outputs": [
    {
     "name": "stdout",
     "output_type": "stream",
     "text": [
      "executado 1 vezes\n",
      "executado 2 vezes\n",
      "executado 3 vezes\n",
      "executado 4 vezes\n",
      "executado 5 vezes\n",
      "executado 6 vezes\n",
      "[7, 5, 6, 7, 5, 6]\n"
     ]
    }
   ],
   "source": [
    "print(exemplo2([7,5,6]))"
   ]
  },
  {
   "cell_type": "markdown",
   "id": "8e59a42e",
   "metadata": {},
   "source": [
    "**O loop é executado n \\* 2 vezes**\n",
    "\n",
    "**t(n) = n + n = O(n)**"
   ]
  },
  {
   "cell_type": "markdown",
   "id": "eed9c308",
   "metadata": {},
   "source": [
    "# O(n²)"
   ]
  },
  {
   "cell_type": "code",
   "execution_count": 70,
   "id": "ee4a3b1e",
   "metadata": {},
   "outputs": [],
   "source": [
    "def exemplo3(dados):\n",
    "    saida = []\n",
    "    contador = 0\n",
    "    for i in range (len(dados)):\n",
    "        for j in range (len(dados)):\n",
    "            contador += 1\n",
    "            saida.append([dados[i], dados[j], dados[i] * dados[j]])\n",
    "            print('executado', contador, 'vezes')\n",
    "    return saida"
   ]
  },
  {
   "cell_type": "code",
   "execution_count": 72,
   "id": "f67ab1c9",
   "metadata": {
    "scrolled": true
   },
   "outputs": [
    {
     "name": "stdout",
     "output_type": "stream",
     "text": [
      "executado 1 vezes\n",
      "executado 2 vezes\n",
      "executado 3 vezes\n",
      "executado 4 vezes\n",
      "executado 5 vezes\n",
      "executado 6 vezes\n",
      "executado 7 vezes\n",
      "executado 8 vezes\n",
      "executado 9 vezes\n",
      "[[1, 1, 1], [1, 2, 2], [1, 3, 3], [2, 1, 2], [2, 2, 4], [2, 3, 6], [3, 1, 3], [3, 2, 6], [3, 3, 9]]\n"
     ]
    }
   ],
   "source": [
    "print(exemplo3([1,2,3]))"
   ]
  },
  {
   "cell_type": "markdown",
   "id": "75e3cf1d",
   "metadata": {},
   "source": [
    "**O loop é executado n \\* n vezes**\n",
    "\n",
    "**t(n) = n \\* n = O(n²)**"
   ]
  },
  {
   "cell_type": "markdown",
   "id": "4f381135",
   "metadata": {},
   "source": [
    "# O(n²)"
   ]
  },
  {
   "cell_type": "code",
   "execution_count": 37,
   "id": "09d3532f",
   "metadata": {},
   "outputs": [],
   "source": [
    "def exemplo4(dados):\n",
    "    saida = []\n",
    "    contador = 0\n",
    "    for i in range (len(dados)):\n",
    "        for j in range (i, len(dados)):\n",
    "            contador += 1\n",
    "            saida.append([dados[i], dados[j], dados[i] * dados[j]])\n",
    "            print('executado', contador, 'vezes')\n",
    "    return saida"
   ]
  },
  {
   "cell_type": "code",
   "execution_count": 38,
   "id": "db45ea84",
   "metadata": {
    "scrolled": true
   },
   "outputs": [
    {
     "name": "stdout",
     "output_type": "stream",
     "text": [
      "executado 1 vezes\n",
      "executado 2 vezes\n",
      "executado 3 vezes\n",
      "executado 4 vezes\n",
      "executado 5 vezes\n",
      "executado 6 vezes\n",
      "executado 7 vezes\n",
      "executado 8 vezes\n",
      "executado 9 vezes\n",
      "executado 10 vezes\n",
      "[[1, 1, 1], [1, 2, 2], [1, 3, 3], [1, 4, 4], [2, 2, 4], [2, 3, 6], [2, 4, 8], [3, 3, 9], [3, 4, 12], [4, 4, 16]]\n"
     ]
    }
   ],
   "source": [
    "print(exemplo4([1,2,3,4]))"
   ]
  },
  {
   "cell_type": "markdown",
   "id": "5136a8ef",
   "metadata": {},
   "source": [
    "**O(n²)**"
   ]
  },
  {
   "cell_type": "markdown",
   "id": "7e6602f3",
   "metadata": {},
   "source": [
    "# O(n²)"
   ]
  },
  {
   "cell_type": "code",
   "execution_count": 1,
   "id": "81efc6c5",
   "metadata": {},
   "outputs": [],
   "source": [
    "def exemplo5(dados):\n",
    "    lista = []\n",
    "    contador = 0\n",
    "    for i in range(len(dados)):\n",
    "        for j in range(len(dados)):\n",
    "            for k in range(2):\n",
    "                contador += 1\n",
    "                lista.append([dados[i], dados[j], dados[k], dados[i] * dados[j] * dados[k]])\n",
    "                print('executado', contador , 'vezes')\n",
    "        \n",
    "    return lista"
   ]
  },
  {
   "cell_type": "code",
   "execution_count": 2,
   "id": "f899d08e",
   "metadata": {
    "scrolled": true
   },
   "outputs": [
    {
     "name": "stdout",
     "output_type": "stream",
     "text": [
      "executado 1 vezes\n",
      "executado 2 vezes\n",
      "executado 3 vezes\n",
      "executado 4 vezes\n",
      "executado 5 vezes\n",
      "executado 6 vezes\n",
      "executado 7 vezes\n",
      "executado 8 vezes\n",
      "executado 9 vezes\n",
      "executado 10 vezes\n",
      "executado 11 vezes\n",
      "executado 12 vezes\n",
      "executado 13 vezes\n",
      "executado 14 vezes\n",
      "executado 15 vezes\n",
      "executado 16 vezes\n",
      "executado 17 vezes\n",
      "executado 18 vezes\n",
      "[[2, 2, 2, 8], [2, 2, 5, 20], [2, 5, 2, 20], [2, 5, 5, 50], [2, 8, 2, 32], [2, 8, 5, 80], [5, 2, 2, 20], [5, 2, 5, 50], [5, 5, 2, 50], [5, 5, 5, 125], [5, 8, 2, 80], [5, 8, 5, 200], [8, 2, 2, 32], [8, 2, 5, 80], [8, 5, 2, 80], [8, 5, 5, 200], [8, 8, 2, 128], [8, 8, 5, 320]]\n"
     ]
    }
   ],
   "source": [
    "print(exemplo5([2,5,8]))"
   ]
  },
  {
   "cell_type": "markdown",
   "id": "7a24dfa2",
   "metadata": {},
   "source": [
    "**O loop é executado n \\* n \\* 3 vezes**\n",
    "\n",
    "**t(n) = n \\* n \\* 3 = O(n²)**"
   ]
  },
  {
   "cell_type": "markdown",
   "id": "f2f2260a",
   "metadata": {},
   "source": [
    "# O(n³)"
   ]
  },
  {
   "cell_type": "code",
   "execution_count": 5,
   "id": "97816a97",
   "metadata": {},
   "outputs": [],
   "source": [
    "def exemplo6(dados):\n",
    "    lista = []\n",
    "    contador = 0\n",
    "    for i in range(len(dados)):\n",
    "        for j in range(len(dados)):\n",
    "            for k in range(len(dados)):\n",
    "                contador += 1\n",
    "                lista.append([dados[i], dados[j], dados[k], dados[i] * dados[j] * dados[k]])\n",
    "                print('executado', contador , 'vezes')\n",
    "        \n",
    "    return lista"
   ]
  },
  {
   "cell_type": "code",
   "execution_count": 6,
   "id": "40a3b6f4",
   "metadata": {
    "scrolled": true
   },
   "outputs": [
    {
     "name": "stdout",
     "output_type": "stream",
     "text": [
      "executado 1 vezes\n",
      "executado 2 vezes\n",
      "executado 3 vezes\n",
      "executado 4 vezes\n",
      "executado 5 vezes\n",
      "executado 6 vezes\n",
      "executado 7 vezes\n",
      "executado 8 vezes\n",
      "[[2, 2, 2, 8], [2, 2, 5, 20], [2, 5, 2, 20], [2, 5, 5, 50], [5, 2, 2, 20], [5, 2, 5, 50], [5, 5, 2, 50], [5, 5, 5, 125]]\n"
     ]
    }
   ],
   "source": [
    "print(exemplo6([2,5]))"
   ]
  },
  {
   "cell_type": "markdown",
   "id": "9ccca96c",
   "metadata": {},
   "source": [
    "**O loop é executado n \\* n \\* n vezes**\n",
    "\n",
    "**t(n) = n \\* n \\* n = O(n³)**"
   ]
  },
  {
   "cell_type": "markdown",
   "id": "eeb61f49",
   "metadata": {},
   "source": [
    "# O(log n)"
   ]
  },
  {
   "cell_type": "code",
   "execution_count": 7,
   "id": "1536d005",
   "metadata": {},
   "outputs": [],
   "source": [
    "def busca_binaria(lista:list , valor:int):\n",
    "    \n",
    "    print('executou')\n",
    "    \n",
    "    meio = len(lista)//2\n",
    "    \n",
    "    if (lista[meio] == valor):\n",
    "        return lista[meio]\n",
    "    \n",
    "    if (len(lista)>1):\n",
    "        \n",
    "        if(lista[meio] > valor):\n",
    "            return busca_binaria(lista[:meio], valor)\n",
    "\n",
    "        elif(lista[meio] < valor):\n",
    "            return busca_binaria(lista[meio:], valor)\n",
    "    \n",
    "    return None"
   ]
  },
  {
   "cell_type": "code",
   "execution_count": 36,
   "id": "ecfbcf82",
   "metadata": {
    "scrolled": true
   },
   "outputs": [
    {
     "name": "stdout",
     "output_type": "stream",
     "text": [
      "[1, 2, 3, 5, 7, 8, 9, 10, 11, 13, 14, 15, 17, 24, 26, 27, 28, 34, 36, 37, 38, 40, 42, 43, 47, 50, 51, 52, 53, 55, 56, 57, 59, 60, 61, 62, 63, 65, 67, 68, 70, 71, 74, 79, 80, 86, 88, 93, 98, 99]\n",
      "executou\n",
      "executou\n",
      "executou\n",
      "executou\n",
      "executou\n",
      "98\n"
     ]
    }
   ],
   "source": [
    "import random\n",
    "lista = random.sample(range(100), 50)\n",
    "lista.sort()\n",
    "print(lista)\n",
    "print(busca_binaria(lista,98))"
   ]
  },
  {
   "cell_type": "markdown",
   "id": "73c510b0",
   "metadata": {},
   "source": [
    "**Princípio de dividir para conquistar**\n",
    "\n",
    "**t(n) = log2(n)= O(log n)**"
   ]
  },
  {
   "cell_type": "markdown",
   "id": "e7c12e47",
   "metadata": {},
   "source": [
    "# O(2^n)"
   ]
  },
  {
   "cell_type": "code",
   "execution_count": 23,
   "id": "ca77fd82",
   "metadata": {},
   "outputs": [],
   "source": [
    "def exemplo7(dados):\n",
    "    lista = []\n",
    "    contador = 0\n",
    "\n",
    "    for i in range(2**len(dados)):\n",
    "        contador += 1\n",
    "        print('executado', contador , 'vezes')\n",
    "        lista.append(i)\n",
    "\n",
    "    return lista\n",
    "\n"
   ]
  },
  {
   "cell_type": "code",
   "execution_count": 26,
   "id": "d2248192",
   "metadata": {
    "scrolled": true
   },
   "outputs": [
    {
     "name": "stdout",
     "output_type": "stream",
     "text": [
      "executado 1 vezes\n",
      "executado 2 vezes\n",
      "executado 3 vezes\n",
      "executado 4 vezes\n",
      "executado 5 vezes\n",
      "executado 6 vezes\n",
      "executado 7 vezes\n",
      "executado 8 vezes\n",
      "[0, 1, 2, 3, 4, 5, 6, 7]\n"
     ]
    }
   ],
   "source": [
    "print(exemplo7([1,4,7]))"
   ]
  },
  {
   "cell_type": "markdown",
   "id": "c9ed7a57",
   "metadata": {},
   "source": [
    "**t(n) = O(2^n)**"
   ]
  }
 ],
 "metadata": {
  "kernelspec": {
   "display_name": "Python 3 (ipykernel)",
   "language": "python",
   "name": "python3"
  },
  "language_info": {
   "codemirror_mode": {
    "name": "ipython",
    "version": 3
   },
   "file_extension": ".py",
   "mimetype": "text/x-python",
   "name": "python",
   "nbconvert_exporter": "python",
   "pygments_lexer": "ipython3",
   "version": "3.10.6"
  }
 },
 "nbformat": 4,
 "nbformat_minor": 5
}
