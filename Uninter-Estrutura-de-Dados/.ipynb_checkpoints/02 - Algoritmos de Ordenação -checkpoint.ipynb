{
 "cells": [
  {
   "cell_type": "markdown",
   "id": "b914cba0",
   "metadata": {},
   "source": [
    "# Anotações baseadas na aula 2"
   ]
  },
  {
   "cell_type": "markdown",
   "id": "460fda77",
   "metadata": {},
   "source": [
    "## Bouble sort"
   ]
  },
  {
   "cell_type": "code",
   "execution_count": 9,
   "id": "796263ef",
   "metadata": {
    "scrolled": true
   },
   "outputs": [
    {
     "name": "stdout",
     "output_type": "stream",
     "text": [
      "Executado 72 vezes\n",
      "[1, 2, 4, 4, 4, 5, 6, 7, 8]\n"
     ]
    }
   ],
   "source": [
    "def bubbleSort(dados):\n",
    "    execucoes = 0\n",
    "    tam = len(dados)\n",
    "    fim = tam - 1\n",
    "    for i in range(0, tam, 1): # o loop para cada dado de entrada\n",
    "        #execucoes +=1\n",
    "        for j in range(0, tam-1, 1): # percorre cada elemento, compara com o próximo e reordena\n",
    "            execucoes +=1\n",
    "            if dados[j] > dados[j+1]:\n",
    "                aux = dados[j]\n",
    "                dados[j] = dados[j+1]\n",
    "                dados[j+1] = aux\n",
    "    print('Executado', execucoes, 'vezes')\n",
    "                \n",
    "#Programa Principal\n",
    "dados = [5, 4, 2, 1, 8,6,4,7,4]\n",
    "bubbleSort(dados)\n",
    "print(dados)"
   ]
  },
  {
   "cell_type": "markdown",
   "id": "5f5c7405",
   "metadata": {},
   "source": [
    "**Complexidade do bouble sort = O(n²)**"
   ]
  },
  {
   "cell_type": "markdown",
   "id": "8828bc11",
   "metadata": {},
   "source": [
    "## Bouble sort melhorado"
   ]
  },
  {
   "cell_type": "code",
   "execution_count": 33,
   "id": "578e383d",
   "metadata": {},
   "outputs": [
    {
     "name": "stdout",
     "output_type": "stream",
     "text": [
      "Executado 40 vezes\n",
      "[1, 2, 4, 4, 4, 5, 6, 7, 8]\n"
     ]
    }
   ],
   "source": [
    "def bubbleSort(dados):\n",
    "    execucoes = 0\n",
    "    tam = len(dados)\n",
    "    fim = tam - 1\n",
    "    for i in range(0, tam, 1): # o loop para cada dado de entrada\n",
    "        #execucoes +=1\n",
    "        ordenou = False\n",
    "        for j in range(0, tam-1, 1): # percorre cada elemento, compara com o próximo e reordena\n",
    "            execucoes +=1\n",
    "            if dados[j] > dados[j+1]:\n",
    "                aux = dados[j]\n",
    "                dados[j] = dados[j+1]\n",
    "                dados[j+1] = aux\n",
    "                ordenou = True\n",
    "        if not ordenou:\n",
    "            print('Executado', execucoes, 'vezes')\n",
    "            return\n",
    "    print('Executado', execucoes, 'vezes')\n",
    "                \n",
    "#Programa Principal\n",
    "dados = [5, 4, 2, 1, 8,6,4,7,4]\n",
    "bubbleSort(dados)\n",
    "print(dados)"
   ]
  },
  {
   "cell_type": "markdown",
   "id": "4cc33c0a",
   "metadata": {},
   "source": [
    "**Complexidade de (n²) no pior caso e (n) no melhor caso**"
   ]
  },
  {
   "cell_type": "markdown",
   "id": "bf3b25f8",
   "metadata": {},
   "source": [
    "## Merge sort"
   ]
  },
  {
   "cell_type": "code",
   "execution_count": 28,
   "id": "3f3b24c8",
   "metadata": {},
   "outputs": [
    {
     "name": "stdout",
     "output_type": "stream",
     "text": [
      "[17, 26, 31, 44, 54, 55, 77, 93]\n"
     ]
    }
   ],
   "source": [
    "def mergeSort(data):\n",
    "    #Condiçao que indica se os dados ainda precisam ser divididos\n",
    "    if len(data) > 1:# verifica o tamanho da lista\n",
    "        #Etapa de dividir\n",
    "        middle = len(data)//2 #pega o ponto central\n",
    "        left = data[:middle]\n",
    "        right = data[middle:]\n",
    "        mergeSort(left) #chama recursivamente passando os dados do lado esquerdo\n",
    "        mergeSort(right) #chama recursivamente passando os dados do lado direito\n",
    "        #intercala/mescla os dados\n",
    "        i = j = k = 0\n",
    "        \n",
    "        #Etapa de conquistar\n",
    "        while i<len(left) and j<len(right):\n",
    "            if left[i]<right[j]:\n",
    "                data[k]=left[i]\n",
    "                i+=1\n",
    "            else:\n",
    "                data[k]=right[j]\n",
    "                j+=1\n",
    "            k=k+1\n",
    "        while i<len(left):\n",
    "            data[k]=left[i]\n",
    "            i+=1\n",
    "            k+=1\n",
    "        while j<len(right):\n",
    "            data[k]=right[j]\n",
    "            j+=1\n",
    "            k+=1\n",
    "#Programa Principal\n",
    "dados = [54, 26, 93, 17, 77, 31, 44, 55]\n",
    "mergeSort(dados)\n",
    "print(dados)"
   ]
  },
  {
   "cell_type": "markdown",
   "id": "4985d8c1",
   "metadata": {},
   "source": [
    "## Merge sort decrescente"
   ]
  },
  {
   "cell_type": "code",
   "execution_count": 25,
   "id": "c4fbcbf4",
   "metadata": {
    "scrolled": false
   },
   "outputs": [
    {
     "name": "stdout",
     "output_type": "stream",
     "text": [
      "[93, 77, 55, 54, 44, 31, 26, 17]\n"
     ]
    }
   ],
   "source": [
    "def mergeSort(data):\n",
    "    #Condiçao que indica se os dados ainda precisam ser divididos\n",
    "    if len(data) > 1:# verifica o tamanho da lista\n",
    "        #Etapa de dividir\n",
    "        middle = len(data)//2 #pega o ponto central\n",
    "        left = data[:middle]\n",
    "        right = data[middle:]\n",
    "        mergeSort(left) #chama recursivamente passando os dados do lado esquerdo\n",
    "        mergeSort(right) #chama recursivamente passando os dados do lado direito\n",
    "        #intercala/mescla os dados\n",
    "        i = j = k = 0\n",
    "        \n",
    "        #Etapa de conquistar\n",
    "        while i<len(left) and j<len(right):\n",
    "            if left[i]>right[j]:# alteração aqui\n",
    "                data[k]=left[i]\n",
    "                i+=1\n",
    "            else:\n",
    "                data[k]=right[j]\n",
    "                j+=1\n",
    "            k=k+1\n",
    "        while i<len(left):\n",
    "            data[k]=left[i]\n",
    "            i+=1\n",
    "            k+=1\n",
    "        while j<len(right):\n",
    "            data[k]=right[j]\n",
    "            j+=1\n",
    "            k+=1\n",
    "#Programa Principal\n",
    "dados = [54, 26, 93, 17, 77, 31, 44, 55]\n",
    "mergeSort(dados)\n",
    "print(dados)"
   ]
  },
  {
   "cell_type": "markdown",
   "id": "4d6c7c9a",
   "metadata": {},
   "source": [
    "**Complexidade do merge sort = O(n \\* log n)**"
   ]
  },
  {
   "cell_type": "markdown",
   "id": "37de0122",
   "metadata": {},
   "source": [
    "## Quick sort"
   ]
  },
  {
   "cell_type": "code",
   "execution_count": 4,
   "id": "67e95fcf",
   "metadata": {
    "scrolled": true
   },
   "outputs": [
    {
     "name": "stdout",
     "output_type": "stream",
     "text": [
      "[34, 64, 13, 786, 45, 3, 5]\n",
      "[3, 5, 13, 34, 45, 786, 64]\n",
      "[3, 5, 13, 34, 45, 786, 64]\n",
      "[3, 5, 13, 34, 45, 786, 64]\n",
      "[3, 5, 13, 34, 45, 786, 64]\n",
      "[3, 5, 13, 34, 45, 786, 64]\n",
      "[3, 5, 13, 34, 45, 786, 64]\n",
      "[3, 5, 13, 34, 45, 786, 64]\n",
      "[3, 5, 13, 34, 45, 786, 64]\n",
      "[3, 5, 13, 34, 45, 64, 786]\n",
      "[3, 5, 13, 34, 45, 64, 786]\n",
      "[3, 5, 13, 34, 45, 64, 786]\n"
     ]
    }
   ],
   "source": [
    "def quickSort(data,start,end):\n",
    "    if start < end:\n",
    "        part_position = partition(data,start,end)\n",
    "        quickSort(data,start,part_position - 1)\n",
    "        quickSort(data,part_position + 1,end)\n",
    "\n",
    "\n",
    "def partition(data,start,end):\n",
    "    pivo = data[start]\n",
    "    left = start + 1\n",
    "    right = end\n",
    "    flag = False\n",
    "    while not flag:\n",
    "        while left <= right and data[left] <= pivo:\n",
    "            left = left + 1\n",
    "        while data[right] >= pivo and right >= left:\n",
    "            right = right -1\n",
    "        if right < left:\n",
    "            flag = True\n",
    "        else:\n",
    "            temp = dados[left]\n",
    "            data[left] = data[right]\n",
    "            data[right] = temp\n",
    "    temp = data[start]\n",
    "    data[start] = data[right]\n",
    "    data[right] = temp\n",
    "    return right\n",
    "#Programa Principal\n",
    "dados = [34,64,13,786,45,3,5]\n",
    "quickSort(dados,0,len(dados)-1)\n",
    "print(dados)"
   ]
  },
  {
   "cell_type": "markdown",
   "id": "c855d461",
   "metadata": {},
   "source": [
    "**Complexidade = O(n² \\* log n)**"
   ]
  },
  {
   "cell_type": "markdown",
   "id": "9f5a6aa2",
   "metadata": {},
   "source": [
    "## Quick sort decrescente"
   ]
  },
  {
   "cell_type": "code",
   "execution_count": 68,
   "id": "296ceb86",
   "metadata": {},
   "outputs": [
    {
     "name": "stdout",
     "output_type": "stream",
     "text": [
      "[786, 64, 45, 34, 13, 5, 3]\n"
     ]
    }
   ],
   "source": [
    "def quickSort(data,start,end):\n",
    "    if start < end:\n",
    "        part_position = partition(data,start,end)\n",
    "        quickSort(data,start,part_position - 1)\n",
    "        quickSort(data,part_position + 1,end)\n",
    "\n",
    "\n",
    "def partition(data,start,end):\n",
    "    pivo = data[start]\n",
    "    left = start + 1\n",
    "    right = end\n",
    "    flag = False\n",
    "    while not flag:\n",
    "        while left <= right and data[left] >= pivo:# inverte aqui\n",
    "            left = left + 1\n",
    "        while right >= left and data[right] <= pivo:# e aqui\n",
    "            right = right -1\n",
    "        if right < left:\n",
    "            flag = True\n",
    "        else:\n",
    "            temp = dados[left]\n",
    "            data[left] = data[right]\n",
    "            data[right] = temp\n",
    "    temp = data[start]\n",
    "    data[start] = data[right]\n",
    "    data[right] = temp\n",
    "    return right\n",
    "#Programa Principal\n",
    "dados = [34,64,13,786,45,3,5]\n",
    "quickSort(dados,0,len(dados)-1)\n",
    "print(dados)"
   ]
  }
 ],
 "metadata": {
  "kernelspec": {
   "display_name": "Python 3 (ipykernel)",
   "language": "python",
   "name": "python3"
  },
  "language_info": {
   "codemirror_mode": {
    "name": "ipython",
    "version": 3
   },
   "file_extension": ".py",
   "mimetype": "text/x-python",
   "name": "python",
   "nbconvert_exporter": "python",
   "pygments_lexer": "ipython3",
   "version": "3.10.6"
  }
 },
 "nbformat": 4,
 "nbformat_minor": 5
}
