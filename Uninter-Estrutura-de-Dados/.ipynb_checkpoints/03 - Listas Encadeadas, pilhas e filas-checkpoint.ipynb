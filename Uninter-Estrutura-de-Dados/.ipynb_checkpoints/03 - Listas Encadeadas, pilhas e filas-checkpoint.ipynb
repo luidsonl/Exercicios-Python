{
 "cells": [
  {
   "cell_type": "markdown",
   "id": "e6b5e2fc",
   "metadata": {},
   "source": [
    "# Anotações da aula 3"
   ]
  },
  {
   "cell_type": "markdown",
   "id": "1520a347",
   "metadata": {},
   "source": [
    "## Lista encadeada simples"
   ]
  },
  {
   "cell_type": "code",
   "execution_count": 1,
   "id": "177eda9a",
   "metadata": {},
   "outputs": [],
   "source": [
    "class Node:\n",
    "    def __init__(self, value): #construtor\n",
    "        self.value = value\n",
    "        self.next = None\n",
    "\n",
    "class LinkedList:\n",
    "    def __init__(self): #construtor\n",
    "        self.head = None #inicializa o inicio da lista como none\n",
    "\n",
    "    def is_empty(self):# método testa se a lista está vazia\n",
    "        return self.head is None\n",
    "    \n",
    "    def add_node_at_beginning(self, value): #método de adicionar nó no início\n",
    "        new_node = Node(value) #instancia nó\n",
    "        new_node.next = self.head # define o next como o nó cabeça atual\n",
    "        self.head = new_node #define o novo nó como novo cabeça\n",
    "\n",
    "    def add_node_at_end(self, value): #método de adicionar nó no final\n",
    "        new_node = Node(value) #cria uma instância do nó\n",
    "        if self.is_empty():\n",
    "            self.head = new_node #caso esteja vazio, define o início da lista para esse nó\n",
    "        else:\n",
    "            current = self.head\n",
    "            while current.next: #enquanto current.next não retornar none\n",
    "                current = current.next #passa para o nó seguinte\n",
    "            current.next = new_node # faz o último nó apontar para o novo nó inserido\n",
    "\n",
    "    def remove_node(self, value):\n",
    "        if self.is_empty():\n",
    "            return #não faz nada se a lista estiver vazia\n",
    "\n",
    "        if self.head.value == value:\n",
    "            self.head = self.head.next # se encontrar o valor no primeiro nó, faz a lista apontar para o seguinte como o nó cabeça\n",
    "            return\n",
    "\n",
    "        current = self.head \n",
    "        while current.next: #percorre a lista seguindo os nós apontados como next\n",
    "            if current.next.value == value: \n",
    "                current.next = current.next.next #se tiver o valor procurado, o nó atual aponta para o next do next\n",
    "                return\n",
    "            current = current.next\n",
    "\n",
    "    def print_list(self):\n",
    "        if self.is_empty():\n",
    "            print(\"List is empty\") #exibe mensagem se a lista estiver vazia\n",
    "        else:\n",
    "            current = self.head \n",
    "            while current: # percorre a lista\n",
    "                print(current.value, end=\" -> \") #imprime valor do nó com seta no final\n",
    "                current = current.next # passa para o próximo nó\n",
    "            print(\"None\")# imprime none no final\n",
    "\n"
   ]
  },
  {
   "cell_type": "code",
   "execution_count": 9,
   "id": "729fcf08",
   "metadata": {},
   "outputs": [
    {
     "name": "stdout",
     "output_type": "stream",
     "text": [
      "Macarrão -> Feijão -> Arroz -> Frango -> Alface -> None\n",
      "Feijão -> Arroz -> Frango -> Alface -> None\n"
     ]
    }
   ],
   "source": [
    "compras = LinkedList()\n",
    "compras.add_node_at_beginning('Arroz')\n",
    "compras.add_node_at_beginning('Feijão')\n",
    "compras.add_node_at_end('Frango')\n",
    "compras.add_node_at_end('Alface')\n",
    "compras.add_node_at_beginning('Macarrão')\n",
    "compras.print_list()\n",
    "compras.remove_node('Macarrão')\n",
    "compras.print_list()"
   ]
  },
  {
   "cell_type": "markdown",
   "id": "31981b18",
   "metadata": {},
   "source": [
    "## Pilha"
   ]
  },
  {
   "cell_type": "code",
   "execution_count": 17,
   "id": "357bea2a",
   "metadata": {},
   "outputs": [],
   "source": [
    "class Stack:\n",
    "    def __init__(self):\n",
    "        self.items = []\n",
    "        \n",
    "    def add(self, value):\n",
    "        self.items.append(value)\n",
    "        \n",
    "    def remove(self):\n",
    "        self.items.pop()\n",
    "        \n",
    "    def __repr__(self):\n",
    "        return str(self.items)"
   ]
  },
  {
   "cell_type": "code",
   "execution_count": 22,
   "id": "adf739e9",
   "metadata": {},
   "outputs": [
    {
     "name": "stdout",
     "output_type": "stream",
     "text": [
      "['Pai rico pai pobre', '1984', 'O homem mais rico da babilonia', 'A bola de neve', 'Admiravel mundo novo']\n",
      "['Pai rico pai pobre', '1984', 'O homem mais rico da babilonia']\n"
     ]
    }
   ],
   "source": [
    "livros = Stack()\n",
    "livros.add('Pai rico pai pobre')\n",
    "livros.add('1984')\n",
    "livros.add('O homem mais rico da babilonia')\n",
    "livros.add('A bola de neve')\n",
    "livros.add('Admiravel mundo novo')\n",
    "print(livros)\n",
    "livros.remove()\n",
    "livros.remove()\n",
    "print(livros)"
   ]
  },
  {
   "cell_type": "markdown",
   "id": "c2a4f22e",
   "metadata": {},
   "source": [
    "## Fila"
   ]
  },
  {
   "cell_type": "code",
   "execution_count": 19,
   "id": "91eb2630",
   "metadata": {},
   "outputs": [],
   "source": [
    "class Queue:\n",
    "    def __init__(self):\n",
    "        self.items = []\n",
    "        \n",
    "    def add(self, value):\n",
    "        self.items.append(value)\n",
    "        \n",
    "    def remove(self):\n",
    "        self.items.pop(0)\n",
    "        \n",
    "    def __repr__(self):\n",
    "        return str(self.items)"
   ]
  },
  {
   "cell_type": "code",
   "execution_count": 21,
   "id": "30ceee3a",
   "metadata": {},
   "outputs": [
    {
     "name": "stdout",
     "output_type": "stream",
     "text": [
      "['The trooper', 'Hallowed be thy name', 'Jamie is crying', 'Panama']\n",
      "['Hallowed be thy name', 'Jamie is crying', 'Panama']\n"
     ]
    }
   ],
   "source": [
    "musicas = Queue()\n",
    "musicas.add('The trooper')\n",
    "musicas.add('Hallowed be thy name')\n",
    "musicas.add('Jamie is crying')\n",
    "musicas.add('Panama')\n",
    "print(musicas)\n",
    "musicas.remove()\n",
    "print(musicas)"
   ]
  }
 ],
 "metadata": {
  "kernelspec": {
   "display_name": "Python 3 (ipykernel)",
   "language": "python",
   "name": "python3"
  },
  "language_info": {
   "codemirror_mode": {
    "name": "ipython",
    "version": 3
   },
   "file_extension": ".py",
   "mimetype": "text/x-python",
   "name": "python",
   "nbconvert_exporter": "python",
   "pygments_lexer": "ipython3",
   "version": "3.10.6"
  }
 },
 "nbformat": 4,
 "nbformat_minor": 5
}
