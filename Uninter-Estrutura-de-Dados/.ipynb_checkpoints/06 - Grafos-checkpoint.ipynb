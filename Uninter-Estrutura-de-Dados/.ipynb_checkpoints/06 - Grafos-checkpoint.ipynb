{
 "cells": [
  {
   "cell_type": "markdown",
   "id": "251f2294",
   "metadata": {},
   "source": [
    "# Anotações da aula 6"
   ]
  },
  {
   "cell_type": "markdown",
   "id": "e2b9460f",
   "metadata": {},
   "source": [
    "## Vértice"
   ]
  },
  {
   "cell_type": "code",
   "execution_count": 14,
   "id": "fd212f48",
   "metadata": {},
   "outputs": [],
   "source": [
    "class Vertex:\n",
    "    def __init__(self, name): #construtor cria um vértice e define com uma lista vazia de vertices vizinhos\n",
    "        self.name = name\n",
    "        self.neighboards = list()\n",
    "        \n",
    "    def add_neighboard(self, neighboard): # Método que adiciona vizinho\n",
    "        if not neighboard in self.neighboards:\n",
    "            self.neighboards.append(neighboard)\n",
    "            self.neighboards.sort()\n",
    "            return True\n",
    "        \n",
    "        else:\n",
    "            return False\n",
    "        "
   ]
  },
  {
   "cell_type": "markdown",
   "id": "caa7d1b7",
   "metadata": {},
   "source": [
    "## Grafo"
   ]
  },
  {
   "cell_type": "code",
   "execution_count": 15,
   "id": "415120e9",
   "metadata": {},
   "outputs": [],
   "source": [
    "class Graph:\n",
    "    vertices = {}\n",
    "    \n",
    "    def add_vertice(self, vertex: Vertex):\n",
    "        #verifica se o vértice já foi adicionado\n",
    "        if vertex.name not in self.vertices:\n",
    "            self.vertices[vertex.name] = vertex\n",
    "            return True\n",
    "        else:\n",
    "            return False\n",
    "        \n",
    "    def add_edge(self, u,v):\n",
    "        #Verifica se os vertices existem no grafo\n",
    "        if u in self.vertices and v in self.vertices:\n",
    "            \n",
    "            for key, value in self.vertices.items():\n",
    "                #adiciona um na lista de vizinhos do outro\n",
    "                if key == u:\n",
    "                    value.add_neighboard(v)\n",
    "                if key == v:\n",
    "                    value.add_neighboard(u)\n",
    "            return True\n",
    "        else:\n",
    "            return False\n",
    "        \n",
    "    def print_graph(self):\n",
    "        for key in sorted(list(self.vertices.keys())):\n",
    "            print(key + str(self.vertices[key].neighboards))\n",
    "    \n",
    "    def dfs(self, start_vertex):\n",
    "        visited = set()\n",
    "\n",
    "        def dfs_recursive(vertex):\n",
    "            visited.add(vertex)\n",
    "            print(vertex)\n",
    "\n",
    "            for neighbor in self.vertices[vertex].neighboards:\n",
    "                if neighbor not in visited:\n",
    "                    dfs_recursive(neighbor)\n",
    "\n",
    "        dfs_recursive(start_vertex)\n"
   ]
  },
  {
   "cell_type": "code",
   "execution_count": 16,
   "id": "06e48bca",
   "metadata": {},
   "outputs": [
    {
     "name": "stdout",
     "output_type": "stream",
     "text": [
      "65\n"
     ]
    }
   ],
   "source": [
    "print(ord('A')) #retorna o codigo unicode para um char"
   ]
  },
  {
   "cell_type": "code",
   "execution_count": 17,
   "id": "72cfb386",
   "metadata": {
    "scrolled": false
   },
   "outputs": [
    {
     "name": "stdout",
     "output_type": "stream",
     "text": [
      "A['B', 'D']\n",
      "B['A', 'C']\n",
      "C['B', 'D', 'E', 'F']\n",
      "D['A', 'C']\n",
      "E['C']\n",
      "F['C']\n"
     ]
    }
   ],
   "source": [
    "g1 = Graph()\n",
    "for i in range(ord('A'), ord('G')): #converte char para int\n",
    "    g1.add_vertice(Vertex(chr(i))) #converte int para char e cria o vértice passando a letra\n",
    "\n",
    "arestas = ['AB','AD','BC','CD','CE','CF']\n",
    "for aresta in arestas:\n",
    "    g1.add_edge(aresta[0], aresta[1])\n",
    "\n",
    "g1.print_graph()"
   ]
  },
  {
   "cell_type": "markdown",
   "id": "7917ad4a",
   "metadata": {},
   "source": [
    "## Executando DFS"
   ]
  },
  {
   "cell_type": "code",
   "execution_count": 18,
   "id": "55cba321",
   "metadata": {
    "scrolled": true
   },
   "outputs": [
    {
     "name": "stdout",
     "output_type": "stream",
     "text": [
      "C\n",
      "B\n",
      "A\n",
      "D\n",
      "E\n",
      "F\n"
     ]
    }
   ],
   "source": [
    "g1.dfs('C')"
   ]
  },
  {
   "attachments": {
    "image.png": {
     "image/png": "[encoded data removed]"
    }
   },
   "cell_type": "markdown",
   "id": "f756c84a",
   "metadata": {},
   "source": [
    "![image.png](attachment:image.png)"
   ]
  },
  {
   "cell_type": "markdown",
   "id": "67ed1c14",
   "metadata": {},
   "source": [
    "## ALGORITMO DE DIJKSTRA"
   ]
  },
  {
   "cell_type": "code",
   "execution_count": 22,
   "id": "aa186f77",
   "metadata": {},
   "outputs": [],
   "source": [
    "class Graph_DIJKSTRA:\n",
    "    def __init__(self):\n",
    "        self.graph = {}  # Cria um dicionário para representar o grafo. As chaves são os vértices e os valores são listas de vizinhos com seus pesos.\n",
    "\n",
    "    def add_edge(self, u, v, weight):  # Adiciona uma aresta com peso entre dois vértices.\n",
    "        if u not in self.graph:  # Se o vértice u ainda não estiver no grafo, cria uma lista vazia para representar seus vizinhos.\n",
    "            self.graph[u] = []\n",
    "        self.graph[u].append((v, weight))  # Adiciona o vértice v e o peso da aresta na lista de vizinhos do vértice u.\n",
    "\n",
    "        if v not in self.graph:  # Se o vértice v ainda não estiver no grafo, cria uma lista vazia para representar seus vizinhos.\n",
    "            self.graph[v] = []\n",
    "        self.graph[v].append((u, weight))  # Adiciona o vértice u e o peso da aresta na lista de vizinhos do vértice v.\n",
    "\n",
    "    def dijkstra(self, start):  # Executa o algoritmo de Dijkstra para encontrar as distâncias mínimas a partir do vértice de partida.\n",
    "        distances = {node: float('inf') for node in self.graph}  # Inicializa todas as distâncias como infinito, exceto a distância do vértice de partida que é definida como 0.\n",
    "        distances[start] = 0\n",
    "\n",
    "        visited = set()  # Cria um conjunto para armazenar os vértices visitados durante o algoritmo.\n",
    "        while len(visited) < len(self.graph):  # Enquanto nem todos os vértices tiverem sido visitados...\n",
    "            min_distance = float('inf')\n",
    "            min_node = None\n",
    "\n",
    "            for node in self.graph:\n",
    "                if distances[node] < min_distance and node not in visited:  # Encontra o vértice não visitado com a menor distância atual.\n",
    "                    min_distance = distances[node]\n",
    "                    min_node = node\n",
    "\n",
    "            visited.add(min_node)  # Marca o vértice atual como visitado.\n",
    "\n",
    "            for neighbor, weight in self.graph[min_node]:  # Explora todos os vizinhos do vértice atual.\n",
    "                new_distance = distances[min_node] + weight  # Calcula a nova distância a partir do vértice atual.\n",
    "                if new_distance < distances[neighbor]:  # Se a nova distância for menor que a distância atual do vizinho, atualiza a distância mínima.\n",
    "                    distances[neighbor] = new_distance\n",
    "\n",
    "        return distances  # Retorna um dicionário contendo as distâncias mínimas a partir do vértice de partida.\n",
    "\n",
    "\n",
    "\n",
    "# by chatgpt"
   ]
  },
  {
   "cell_type": "code",
   "execution_count": 23,
   "id": "f1f1ea7b",
   "metadata": {},
   "outputs": [
    {
     "name": "stdout",
     "output_type": "stream",
     "text": [
      "Distâncias mínimas a partir do vértice A:\n",
      "Vértice: A, Distância: 0\n",
      "Vértice: B, Distância: 5\n",
      "Vértice: C, Distância: 3\n",
      "Vértice: D, Distância: 8\n",
      "Vértice: E, Distância: 7\n"
     ]
    }
   ],
   "source": [
    "# Exemplo de uso\n",
    "graph = Graph_DIJKSTRA()\n",
    "\n",
    "# Adicionando arestas com pesos\n",
    "graph.add_edge('A', 'B', 5)\n",
    "graph.add_edge('A', 'C', 3)\n",
    "graph.add_edge('B', 'C', 2)\n",
    "graph.add_edge('B', 'D', 6)\n",
    "graph.add_edge('C', 'D', 7)\n",
    "graph.add_edge('C', 'E', 4)\n",
    "graph.add_edge('D', 'E', 1)\n",
    "\n",
    "start_vertex = 'A'\n",
    "distances = graph.dijkstra(start_vertex)\n",
    "\n",
    "print(f\"Distâncias mínimas a partir do vértice {start_vertex}:\")\n",
    "for vertex, distance in distances.items():\n",
    "    print(f\"Vértice: {vertex}, Distância: {distance}\")\n",
    "#by chatgpt"
   ]
  }
 ],
 "metadata": {
  "kernelspec": {
   "display_name": "Python 3 (ipykernel)",
   "language": "python",
   "name": "python3"
  },
  "language_info": {
   "codemirror_mode": {
    "name": "ipython",
    "version": 3
   },
   "file_extension": ".py",
   "mimetype": "text/x-python",
   "name": "python",
   "nbconvert_exporter": "python",
   "pygments_lexer": "ipython3",
   "version": "3.10.6"
  }
 },
 "nbformat": 4,
 "nbformat_minor": 5
}
